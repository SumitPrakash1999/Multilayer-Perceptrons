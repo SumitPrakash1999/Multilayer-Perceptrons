{
  "cells": [
    {
      "cell_type": "markdown",
      "metadata": {
        "id": "lvpf93Fv9Hlk"
      },
      "source": [
        "\n",
        "\n",
        "## Multi-layer Perceptrons\n",
        "\n",
        "### Digit Classification\n",
        "\n",
        "In this question, you will perform digit classification using MLP. You can use the MLPClassifier from sklearn. Train and two test sets have been provided [here](https://drive.google.com/drive/folders/1OUVrOMp2jSSBDJSqvEyXDFTrhiyZnqit?usp=sharing). Report the accuracy and any other interesting observations."
      ]
    },
    {
      "cell_type": "code",
      "execution_count": 17,
      "metadata": {
        "id": "G-MpagLl-YJp"
      },
      "outputs": [],
      "source": [
        "import numpy as np\n",
        "import h5py\n",
        "from sklearn.neural_network import MLPClassifier\n",
        "from sklearn.metrics import accuracy_score\n",
        "import matplotlib.pyplot as plt"
      ]
    },
    {
      "cell_type": "code",
      "execution_count": 18,
      "metadata": {
        "id": "cHAbz92352gz"
      },
      "outputs": [],
      "source": [
        "filename = \"training_3digits.hdf5\"\n",
        "train = h5py.File(filename,'r')\n",
        "train_images = np.array(train['images'])\n",
        "train_digits = np.array(train['digits'])\n",
        "train.close()"
      ]
    },
    {
      "cell_type": "code",
      "execution_count": 19,
      "metadata": {
        "id": "5MLBdrs65woF"
      },
      "outputs": [],
      "source": [
        "filename = \"testing_3digits_part1.hdf5\"\n",
        "test1 = h5py.File(filename,'r')\n",
        "test_images_1 = np.array(test1['images'])\n",
        "test_digits_1 = np.array(test1['digits'])\n",
        "test1.close()"
      ]
    },
    {
      "cell_type": "code",
      "execution_count": 21,
      "metadata": {
        "id": "w8cYRTiD-R1e"
      },
      "outputs": [],
      "source": [
        "filename = \"testing_3digits_part2.hdf5\"\n",
        "test2 = h5py.File(filename,'r')\n",
        "test_images_2 = np.array(test2['images'])\n",
        "test_digits_2 = np.array(test2['digits'])\n",
        "test2.close()\n"
      ]
    },
    {
      "cell_type": "code",
      "execution_count": 22,
      "metadata": {
        "colab": {
          "base_uri": "https://localhost:8080/",
          "height": 879
        },
        "id": "EypNL7U3Vzte",
        "outputId": "62f29455-8ffa-4bb7-9c91-a7d325265efe"
      },
      "outputs": [
        {
          "name": "stdout",
          "output_type": "stream",
          "text": [
            "Train Images:\n"
          ]
        },
        {
          "data": {
            "image/png": "[encoded data removed]",
            "text/plain": [
              "<Figure size 1000x500 with 3 Axes>"
            ]
          },
          "metadata": {},
          "output_type": "display_data"
        },
        {
          "name": "stdout",
          "output_type": "stream",
          "text": [
            "Test Images 1:\n"
          ]
        },
        {
          "data": {
            "image/png": "[encoded data removed]",
            "text/plain": [
              "<Figure size 1000x500 with 3 Axes>"
            ]
          },
          "metadata": {},
          "output_type": "display_data"
        },
        {
          "name": "stdout",
          "output_type": "stream",
          "text": [
            "Test Images 2:\n"
          ]
        },
        {
          "data": {
            "image/png": "[encoded data removed]",
            "text/plain": [
              "<Figure size 1000x500 with 3 Axes>"
            ]
          },
          "metadata": {},
          "output_type": "display_data"
        }
      ],
      "source": [
        "# Plotting three images from the dataset\n",
        "def plot_images(images, labels):\n",
        "    plt.figure(figsize=(10, 5))\n",
        "    for i in range(3):\n",
        "        plt.subplot(1, 3, i+1)\n",
        "        plt.imshow(images[i])\n",
        "        plt.title(f\"Label: {labels[i]}\")\n",
        "        plt.axis('off')\n",
        "    plt.show()\n",
        "\n",
        "\n",
        "print(\"Train Images:\")\n",
        "plot_images(train_images, train_digits)\n",
        "\n",
        "print(\"Test Images 1:\")\n",
        "plot_images(test_images_1, test_digits_1)\n",
        "\n",
        "print(\"Test Images 2:\")\n",
        "plot_images(test_images_2, test_digits_2)"
      ]
    },
    {
      "cell_type": "code",
      "execution_count": 23,
      "metadata": {
        "colab": {
          "base_uri": "https://localhost:8080/"
        },
        "id": "euOwcCxynhdr",
        "outputId": "56d38777-2de6-419b-de81-edd89a470761"
      },
      "outputs": [
        {
          "name": "stdout",
          "output_type": "stream",
          "text": [
            "(2726, 28, 28, 3)\n",
            "(3147, 28, 28, 3)\n",
            "(3147, 28, 28, 3)\n"
          ]
        }
      ],
      "source": [
        "print(train_images.shape)\n",
        "print(test_images_1.shape)\n",
        "print(test_images_2.shape)"
      ]
    },
    {
      "cell_type": "code",
      "execution_count": 24,
      "metadata": {
        "id": "SZrz2p7IKzkL"
      },
      "outputs": [],
      "source": [
        "blue_pixels = np.all(test_images_2 == [0, 0, 1], axis=-1)\n",
        "white_pixels = np.all(test_images_2 == [1, 1, 1], axis=-1)\n",
        "test_images_2[blue_pixels] = [1, 1, 1]\n",
        "test_images_2[white_pixels]=[1,0,0]"
      ]
    },
    {
      "cell_type": "code",
      "execution_count": 25,
      "metadata": {
        "colab": {
          "base_uri": "https://localhost:8080/",
          "height": 304
        },
        "id": "KHi5GjUUW6Is",
        "outputId": "cca34a3e-063c-40f8-e41b-1cc00add973e"
      },
      "outputs": [
        {
          "name": "stdout",
          "output_type": "stream",
          "text": [
            "Test Images 2:\n"
          ]
        },
        {
          "data": {
            "image/png": "[encoded data removed]",
            "text/plain": [
              "<Figure size 1000x500 with 3 Axes>"
            ]
          },
          "metadata": {},
          "output_type": "display_data"
        }
      ],
      "source": [
        "print(\"Test Images 2:\")\n",
        "plot_images(test_images_2, test_digits_2)"
      ]
    },
    {
      "cell_type": "code",
      "execution_count": 16,
      "metadata": {
        "colab": {
          "base_uri": "https://localhost:8080/"
        },
        "id": "dLuXGVVjbLPr",
        "outputId": "d31575dc-0f83-4cdb-d410-86714ef98b5c"
      },
      "outputs": [
        {
          "name": "stdout",
          "output_type": "stream",
          "text": [
            "Accuracy on Test Set 1: 1.0\n",
            "Accuracy on Test Set 2: 0.3279313632030505\n"
          ]
        }
      ],
      "source": [
        "# Flattening images\n",
        "train_images_flatten = train_images.reshape((train_images.shape[0], -1))\n",
        "test_images_1_flatten = test_images_1.reshape((test_images_1.shape[0], -1))\n",
        "test_images_2_flatten = test_images_2.reshape((test_images_2.shape[0], -1))\n",
        "\n",
        "# Normalizing data\n",
        "train_images_flatten = train_images_flatten / 255.0\n",
        "test_images_1_flatten = test_images_1_flatten / 255.0\n",
        "test_images_2_flatten = test_images_2_flatten / 255.0\n",
        "\n",
        "# Defining and training MLP classifier\n",
        "mlp = MLPClassifier(hidden_layer_sizes=(50,20,), max_iter=1000, activation='relu', solver='adam', random_state=42)\n",
        "mlp.fit(train_images_flatten, train_digits)\n",
        "\n",
        "pred_test1 = mlp.predict(test_images_1_flatten)\n",
        "pred_test2 = mlp.predict(test_images_2_flatten)\n",
        "\n",
        "accuracy_test1 = accuracy_score(test_digits_1, pred_test1)\n",
        "accuracy_test2 = accuracy_score(test_digits_2, pred_test2)\n",
        "\n",
        "print(\"Accuracy on Test Set 1:\", accuracy_test1)\n",
        "print(\"Accuracy on Test Set 2:\", accuracy_test2)\n"
      ]
    },
    {
      "cell_type": "markdown",
      "metadata": {
        "id": "ZRJDc70Zv07K"
      },
      "source": [
        "Observation:- The MLP's challenges with color sensitivity and poor performance on diverse test sets suggest it heavily depends on color rather than digit shapes. This highlights the importance of enhancing feature representation and data diversity during training. The strategy of aligning colors in test set 2 with those in test set 1 boosted accuracy from 0% to 32%, indicating that color normalization can partially alleviate the model's color sensitivity. However, this also underscores the model's tendency to prioritize color features over structural digit features. Moreover, the model's susceptibility to shortcut learning emphasizes the need for caution when preparing the dataset."
      ]
    }
  ],
  "metadata": {
    "accelerator": "TPU",
    "colab": {
      "provenance": []
    },
    "kernelspec": {
      "display_name": "Python 3",
      "name": "python3"
    },
    "language_info": {
      "name": "python"
    }
  },
  "nbformat": 4,
  "nbformat_minor": 0
}
